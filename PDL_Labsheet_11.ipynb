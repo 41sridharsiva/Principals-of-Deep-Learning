{
 "cells": [
  {
   "cell_type": "markdown",
   "id": "b557f7ec",
   "metadata": {},
   "source": [
    "## PDL-LABSHEET_11"
   ]
  },
  {
   "cell_type": "markdown",
   "id": "517d9245",
   "metadata": {},
   "source": [
    "### SRIDHAR S"
   ]
  },
  {
   "cell_type": "markdown",
   "id": "8d1aa6ba",
   "metadata": {},
   "source": [
    "### 225229139"
   ]
  },
  {
   "cell_type": "code",
   "execution_count": 1,
   "id": "5bac9c8a-bda7-4d2d-9043-c862c30b062e",
   "metadata": {
    "id": "5bac9c8a-bda7-4d2d-9043-c862c30b062e"
   },
   "outputs": [],
   "source": [
    "import time\n",
    "from tensorflow.keras.datasets import mnist\n",
    "from tensorflow.keras.models import Sequential\n",
    "from tensorflow.keras.layers import Conv2D, Flatten, Dense, MaxPooling2D\n",
    "from tensorflow.keras.optimizers import Adam"
   ]
  },
  {
   "cell_type": "code",
   "execution_count": 2,
   "id": "d08f20ae-7600-4802-a338-96eec941d2c8",
   "metadata": {
    "colab": {
     "base_uri": "https://localhost:8080/"
    },
    "id": "d08f20ae-7600-4802-a338-96eec941d2c8",
    "outputId": "61869980-54de-4e49-ec13-3cf098507962"
   },
   "outputs": [
    {
     "name": "stdout",
     "output_type": "stream",
     "text": [
      "Downloading data from https://storage.googleapis.com/tensorflow/tf-keras-datasets/mnist.npz\n",
      "11490434/11490434 [==============================] - 1s 0us/step\n"
     ]
    }
   ],
   "source": [
    "(x_train, y_train), (x_test, y_test) = mnist.load_data()\n",
    "x_train = x_train.reshape(x_train.shape[0], 28, 28, 1).astype('float32') / 255\n",
    "x_test = x_test.reshape(x_test.shape[0], 28, 28, 1).astype('float32') / 255"
   ]
  },
  {
   "cell_type": "code",
   "execution_count": 3,
   "id": "cb71ad37-f160-40e6-b8d9-458eaf852017",
   "metadata": {
    "colab": {
     "base_uri": "https://localhost:8080/"
    },
    "id": "cb71ad37-f160-40e6-b8d9-458eaf852017",
    "outputId": "8ff38fe2-4ddd-4134-9e32-98709266bc1d"
   },
   "outputs": [
    {
     "name": "stdout",
     "output_type": "stream",
     "text": [
      "X_Train shape (60000, 28, 28, 1)\n",
      "Y_Train shape (60000,)\n",
      "X_Test shape (10000, 28, 28, 1)\n",
      "Y_Test shape (10000,)\n"
     ]
    }
   ],
   "source": [
    "print(\"X_Train shape\",x_train.shape)\n",
    "print(\"Y_Train shape\",y_train.shape)\n",
    "print(\"X_Test shape\",x_test.shape)\n",
    "print(\"Y_Test shape\",y_test.shape)"
   ]
  },
  {
   "cell_type": "markdown",
   "id": "a47f894c-c785-403d-8691-19b942e83638",
   "metadata": {
    "id": "a47f894c-c785-403d-8691-19b942e83638"
   },
   "source": [
    "##### Step-1"
   ]
  },
  {
   "cell_type": "code",
   "execution_count": 4,
   "id": "4b728d4d-ce05-47e1-82f1-7d7c043137eb",
   "metadata": {
    "id": "4b728d4d-ce05-47e1-82f1-7d7c043137eb"
   },
   "outputs": [],
   "source": [
    "def create_model(filters):\n",
    "    model = Sequential()\n",
    "    model.add(Conv2D(filters, (3, 3), activation='relu', input_shape=(28, 28, 1)))\n",
    "    model.add(Flatten())\n",
    "    model.add(Dense(10, activation='softmax'))\n",
    "    model.compile(optimizer=Adam(), loss='sparse_categorical_crossentropy', metrics=['accuracy'])\n",
    "    return model"
   ]
  },
  {
   "cell_type": "code",
   "execution_count": 5,
   "id": "112b14f6-b119-435f-a7ad-f1a89a4941e9",
   "metadata": {
    "colab": {
     "base_uri": "https://localhost:8080/"
    },
    "id": "112b14f6-b119-435f-a7ad-f1a89a4941e9",
    "outputId": "cb1d0a50-7569-4f4e-cbd0-e38e9560c5d8",
    "scrolled": false
   },
   "outputs": [
    {
     "name": "stdout",
     "output_type": "stream",
     "text": [
      "Number of Filters: 4\n",
      "Model: \"sequential\"\n",
      "_________________________________________________________________\n",
      " Layer (type)                Output Shape              Param #   \n",
      "=================================================================\n",
      " conv2d (Conv2D)             (None, 26, 26, 4)         40        \n",
      "                                                                 \n",
      " flatten (Flatten)           (None, 2704)              0         \n",
      "                                                                 \n",
      " dense (Dense)               (None, 10)                27050     \n",
      "                                                                 \n",
      "=================================================================\n",
      "Total params: 27,090\n",
      "Trainable params: 27,090\n",
      "Non-trainable params: 0\n",
      "_________________________________________________________________\n",
      "Train Acc: 0.9769, Test Acc: 0.9719\n",
      "\n",
      "----------------------------------------------------------------------------------------------------------------------------------\n",
      "\n",
      "\n",
      "\n",
      "Number of Filters: 32\n",
      "Model: \"sequential_1\"\n",
      "_________________________________________________________________\n",
      " Layer (type)                Output Shape              Param #   \n",
      "=================================================================\n",
      " conv2d_1 (Conv2D)           (None, 26, 26, 32)        320       \n",
      "                                                                 \n",
      " flatten_1 (Flatten)         (None, 21632)             0         \n",
      "                                                                 \n",
      " dense_1 (Dense)             (None, 10)                216330    \n",
      "                                                                 \n",
      "=================================================================\n",
      "Total params: 216,650\n",
      "Trainable params: 216,650\n",
      "Non-trainable params: 0\n",
      "_________________________________________________________________\n",
      "Train Acc: 0.9916, Test Acc: 0.9818\n",
      "\n",
      "----------------------------------------------------------------------------------------------------------------------------------\n",
      "\n",
      "\n",
      "\n",
      "Number of Filters: 128\n",
      "Model: \"sequential_2\"\n",
      "_________________________________________________________________\n",
      " Layer (type)                Output Shape              Param #   \n",
      "=================================================================\n",
      " conv2d_2 (Conv2D)           (None, 26, 26, 128)       1280      \n",
      "                                                                 \n",
      " flatten_2 (Flatten)         (None, 86528)             0         \n",
      "                                                                 \n",
      " dense_2 (Dense)             (None, 10)                865290    \n",
      "                                                                 \n",
      "=================================================================\n",
      "Total params: 866,570\n",
      "Trainable params: 866,570\n",
      "Non-trainable params: 0\n",
      "_________________________________________________________________\n",
      "Train Acc: 0.9944, Test Acc: 0.9811\n",
      "\n",
      "----------------------------------------------------------------------------------------------------------------------------------\n",
      "\n",
      "\n",
      "\n",
      "Number of Filters: 512\n",
      "Model: \"sequential_3\"\n",
      "_________________________________________________________________\n",
      " Layer (type)                Output Shape              Param #   \n",
      "=================================================================\n",
      " conv2d_3 (Conv2D)           (None, 26, 26, 512)       5120      \n",
      "                                                                 \n",
      " flatten_3 (Flatten)         (None, 346112)            0         \n",
      "                                                                 \n",
      " dense_3 (Dense)             (None, 10)                3461130   \n",
      "                                                                 \n",
      "=================================================================\n",
      "Total params: 3,466,250\n",
      "Trainable params: 3,466,250\n",
      "Non-trainable params: 0\n",
      "_________________________________________________________________\n",
      "Train Acc: 0.9956, Test Acc: 0.9822\n",
      "\n",
      "----------------------------------------------------------------------------------------------------------------------------------\n",
      "\n",
      "\n",
      "\n",
      "Number of Filters: 2056\n",
      "Model: \"sequential_4\"\n",
      "_________________________________________________________________\n",
      " Layer (type)                Output Shape              Param #   \n",
      "=================================================================\n",
      " conv2d_4 (Conv2D)           (None, 26, 26, 2056)      20560     \n",
      "                                                                 \n",
      " flatten_4 (Flatten)         (None, 1389856)           0         \n",
      "                                                                 \n",
      " dense_4 (Dense)             (None, 10)                13898570  \n",
      "                                                                 \n",
      "=================================================================\n",
      "Total params: 13,919,130\n",
      "Trainable params: 13,919,130\n",
      "Non-trainable params: 0\n",
      "_________________________________________________________________\n",
      "Train Acc: 0.9943, Test Acc: 0.9798\n",
      "\n",
      "----------------------------------------------------------------------------------------------------------------------------------\n",
      "\n",
      "\n",
      "\n"
     ]
    }
   ],
   "source": [
    "filter_values = [4, 32, 128, 512, 2056]\n",
    "for filters in filter_values:\n",
    "    print(f\"Number of Filters: {filters}\")\n",
    "    model = create_model(filters)\n",
    "    model.summary()\n",
    "    history = model.fit(x_train, y_train, epochs=5, validation_data=(x_test, y_test), verbose=0)\n",
    "    train_acc = history.history['accuracy'][-1]\n",
    "    test_acc = history.history['val_accuracy'][-1]\n",
    "    print(f\"Train Acc: {train_acc:.4f}, Test Acc: {test_acc:.4f}\\n\")\n",
    "    print(\"----------------------------------------------------------------------------------------------------------------------------------\")\n",
    "    print('\\n\\n')"
   ]
  },
  {
   "cell_type": "markdown",
   "id": "535d1755-d83c-4589-bd59-abcdb964dda8",
   "metadata": {
    "id": "535d1755-d83c-4589-bd59-abcdb964dda8"
   },
   "source": [
    "##### Step-2"
   ]
  },
  {
   "cell_type": "code",
   "execution_count": 6,
   "id": "15c0c1cb-1d33-4ffe-9fd4-fab0fd1c9277",
   "metadata": {
    "id": "15c0c1cb-1d33-4ffe-9fd4-fab0fd1c9277"
   },
   "outputs": [],
   "source": [
    "def create_model(num_layers):\n",
    "    model = Sequential()\n",
    "    for _ in range(num_layers):\n",
    "        model.add(Conv2D(32, (3, 3), activation='relu', input_shape=(28, 28, 1)))\n",
    "    model.add(Flatten())\n",
    "    model.add(Dense(10, activation='softmax'))\n",
    "    model.compile(optimizer=Adam(), loss='sparse_categorical_crossentropy', metrics=['accuracy'])\n",
    "    return model"
   ]
  },
  {
   "cell_type": "code",
   "execution_count": 7,
   "id": "f746f711-c832-478e-9c7d-281f6400ba63",
   "metadata": {
    "colab": {
     "base_uri": "https://localhost:8080/"
    },
    "id": "f746f711-c832-478e-9c7d-281f6400ba63",
    "outputId": "98f6336f-ea49-4d8a-f4f2-0902555961a2"
   },
   "outputs": [
    {
     "name": "stdout",
     "output_type": "stream",
     "text": [
      "Number of Conv Layers: 2\n",
      "Model: \"sequential_5\"\n",
      "_________________________________________________________________\n",
      " Layer (type)                Output Shape              Param #   \n",
      "=================================================================\n",
      " conv2d_5 (Conv2D)           (None, 26, 26, 32)        320       \n",
      "                                                                 \n",
      " conv2d_6 (Conv2D)           (None, 24, 24, 32)        9248      \n",
      "                                                                 \n",
      " flatten_5 (Flatten)         (None, 18432)             0         \n",
      "                                                                 \n",
      " dense_5 (Dense)             (None, 10)                184330    \n",
      "                                                                 \n",
      "=================================================================\n",
      "Total params: 193,898\n",
      "Trainable params: 193,898\n",
      "Non-trainable params: 0\n",
      "_________________________________________________________________\n",
      "Train Acc: 0.9949, Test Acc: 0.9847\n",
      "\n",
      "----------------------------------------------------------------------------------------------------------------------------------\n",
      "\n",
      "\n",
      "\n",
      "Number of Conv Layers: 3\n",
      "Model: \"sequential_6\"\n",
      "_________________________________________________________________\n",
      " Layer (type)                Output Shape              Param #   \n",
      "=================================================================\n",
      " conv2d_7 (Conv2D)           (None, 26, 26, 32)        320       \n",
      "                                                                 \n",
      " conv2d_8 (Conv2D)           (None, 24, 24, 32)        9248      \n",
      "                                                                 \n",
      " conv2d_9 (Conv2D)           (None, 22, 22, 32)        9248      \n",
      "                                                                 \n",
      " flatten_6 (Flatten)         (None, 15488)             0         \n",
      "                                                                 \n",
      " dense_6 (Dense)             (None, 10)                154890    \n",
      "                                                                 \n",
      "=================================================================\n",
      "Total params: 173,706\n",
      "Trainable params: 173,706\n",
      "Non-trainable params: 0\n",
      "_________________________________________________________________\n",
      "Train Acc: 0.9946, Test Acc: 0.9897\n",
      "\n",
      "----------------------------------------------------------------------------------------------------------------------------------\n",
      "\n",
      "\n",
      "\n",
      "Number of Conv Layers: 4\n",
      "Model: \"sequential_7\"\n",
      "_________________________________________________________________\n",
      " Layer (type)                Output Shape              Param #   \n",
      "=================================================================\n",
      " conv2d_10 (Conv2D)          (None, 26, 26, 32)        320       \n",
      "                                                                 \n",
      " conv2d_11 (Conv2D)          (None, 24, 24, 32)        9248      \n",
      "                                                                 \n",
      " conv2d_12 (Conv2D)          (None, 22, 22, 32)        9248      \n",
      "                                                                 \n",
      " conv2d_13 (Conv2D)          (None, 20, 20, 32)        9248      \n",
      "                                                                 \n",
      " flatten_7 (Flatten)         (None, 12800)             0         \n",
      "                                                                 \n",
      " dense_7 (Dense)             (None, 10)                128010    \n",
      "                                                                 \n",
      "=================================================================\n",
      "Total params: 156,074\n",
      "Trainable params: 156,074\n",
      "Non-trainable params: 0\n",
      "_________________________________________________________________\n",
      "Train Acc: 0.9942, Test Acc: 0.9880\n",
      "\n",
      "----------------------------------------------------------------------------------------------------------------------------------\n",
      "\n",
      "\n",
      "\n"
     ]
    }
   ],
   "source": [
    "layer_values = [2, 3, 4]\n",
    "for num_layers in layer_values:\n",
    "    print(f\"Number of Conv Layers: {num_layers}\")\n",
    "    model = create_model(num_layers)\n",
    "    model.summary()\n",
    "    history = model.fit(x_train, y_train, epochs=5, validation_data=(x_test, y_test), verbose=0)\n",
    "    train_acc = history.history['accuracy'][-1]\n",
    "    test_acc = history.history['val_accuracy'][-1]\n",
    "    print(f\"Train Acc: {train_acc:.4f}, Test Acc: {test_acc:.4f}\\n\")\n",
    "    print(\"----------------------------------------------------------------------------------------------------------------------------------\")\n",
    "    print('\\n\\n')"
   ]
  },
  {
   "cell_type": "markdown",
   "id": "78e53a65-087d-488d-90e2-dfd02ebc18e6",
   "metadata": {
    "id": "78e53a65-087d-488d-90e2-dfd02ebc18e6"
   },
   "source": [
    "##### Step-3"
   ]
  },
  {
   "cell_type": "code",
   "execution_count": 8,
   "id": "4268a740-d85c-499d-b5fe-598825c4953d",
   "metadata": {
    "id": "4268a740-d85c-499d-b5fe-598825c4953d"
   },
   "outputs": [],
   "source": [
    "def create_model(filter_size):\n",
    "    model = Sequential()\n",
    "    for _ in range(2):\n",
    "        model.add(Conv2D(16, (filter_size, filter_size), activation='relu', input_shape=(28, 28, 1)))\n",
    "    model.add(Flatten())\n",
    "    model.add(Dense(10, activation='softmax'))\n",
    "    model.compile(optimizer=Adam(), loss='sparse_categorical_crossentropy', metrics=['accuracy'])\n",
    "    return model"
   ]
  },
  {
   "cell_type": "code",
   "execution_count": 9,
   "id": "08b11e00-b937-4ed7-8774-6fae44436d7f",
   "metadata": {
    "colab": {
     "base_uri": "https://localhost:8080/"
    },
    "id": "08b11e00-b937-4ed7-8774-6fae44436d7f",
    "outputId": "fcafcfdf-cf78-4879-9da4-88c8c9a8afeb"
   },
   "outputs": [
    {
     "name": "stdout",
     "output_type": "stream",
     "text": [
      "Filter Size: 3x3\n",
      "Model: \"sequential_8\"\n",
      "_________________________________________________________________\n",
      " Layer (type)                Output Shape              Param #   \n",
      "=================================================================\n",
      " conv2d_14 (Conv2D)          (None, 26, 26, 16)        160       \n",
      "                                                                 \n",
      " conv2d_15 (Conv2D)          (None, 24, 24, 16)        2320      \n",
      "                                                                 \n",
      " flatten_8 (Flatten)         (None, 9216)              0         \n",
      "                                                                 \n",
      " dense_8 (Dense)             (None, 10)                92170     \n",
      "                                                                 \n",
      "=================================================================\n",
      "Total params: 94,650\n",
      "Trainable params: 94,650\n",
      "Non-trainable params: 0\n",
      "_________________________________________________________________\n",
      "Train Acc: 0.9927, Test Acc: 0.9847\n",
      "\n",
      "----------------------------------------------------------------------------------------------------------------------------------\n",
      "\n",
      "\n",
      "\n",
      "Filter Size: 5x5\n",
      "Model: \"sequential_9\"\n",
      "_________________________________________________________________\n",
      " Layer (type)                Output Shape              Param #   \n",
      "=================================================================\n",
      " conv2d_16 (Conv2D)          (None, 24, 24, 16)        416       \n",
      "                                                                 \n",
      " conv2d_17 (Conv2D)          (None, 20, 20, 16)        6416      \n",
      "                                                                 \n",
      " flatten_9 (Flatten)         (None, 6400)              0         \n",
      "                                                                 \n",
      " dense_9 (Dense)             (None, 10)                64010     \n",
      "                                                                 \n",
      "=================================================================\n",
      "Total params: 70,842\n",
      "Trainable params: 70,842\n",
      "Non-trainable params: 0\n",
      "_________________________________________________________________\n",
      "Train Acc: 0.9937, Test Acc: 0.9881\n",
      "\n",
      "----------------------------------------------------------------------------------------------------------------------------------\n",
      "\n",
      "\n",
      "\n",
      "Filter Size: 7x7\n",
      "Model: \"sequential_10\"\n",
      "_________________________________________________________________\n",
      " Layer (type)                Output Shape              Param #   \n",
      "=================================================================\n",
      " conv2d_18 (Conv2D)          (None, 22, 22, 16)        800       \n",
      "                                                                 \n",
      " conv2d_19 (Conv2D)          (None, 16, 16, 16)        12560     \n",
      "                                                                 \n",
      " flatten_10 (Flatten)        (None, 4096)              0         \n",
      "                                                                 \n",
      " dense_10 (Dense)            (None, 10)                40970     \n",
      "                                                                 \n",
      "=================================================================\n",
      "Total params: 54,330\n",
      "Trainable params: 54,330\n",
      "Non-trainable params: 0\n",
      "_________________________________________________________________\n",
      "Train Acc: 0.9931, Test Acc: 0.9878\n",
      "\n",
      "----------------------------------------------------------------------------------------------------------------------------------\n",
      "\n",
      "\n",
      "\n"
     ]
    }
   ],
   "source": [
    "filter_sizes = [3, 5, 7]\n",
    "for size in filter_sizes:\n",
    "    print(f\"Filter Size: {size}x{size}\")\n",
    "    model = create_model(size)\n",
    "    model.summary()\n",
    "    history = model.fit(x_train, y_train, epochs=5, validation_data=(x_test, y_test), verbose=0)\n",
    "    train_acc = history.history['accuracy'][-1]\n",
    "    test_acc = history.history['val_accuracy'][-1]\n",
    "    print(f\"Train Acc: {train_acc:.4f}, Test Acc: {test_acc:.4f}\\n\")\n",
    "    print(\"----------------------------------------------------------------------------------------------------------------------------------\")\n",
    "    print('\\n\\n')"
   ]
  },
  {
   "cell_type": "markdown",
   "id": "5ac6b77c-ec88-427d-8bf0-54549a89e091",
   "metadata": {
    "id": "5ac6b77c-ec88-427d-8bf0-54549a89e091"
   },
   "source": [
    "##### Step-4"
   ]
  },
  {
   "cell_type": "code",
   "execution_count": 10,
   "id": "bfbe375e-627c-4566-8524-af221d05af8b",
   "metadata": {
    "id": "bfbe375e-627c-4566-8524-af221d05af8b"
   },
   "outputs": [],
   "source": [
    "def create_model(activation):\n",
    "    model = Sequential()\n",
    "    model.add(Conv2D(16, (3, 3), activation=activation, input_shape=(28, 28, 1)))\n",
    "    model.add(Conv2D(16, (3, 3), activation=activation))\n",
    "    model.add(Flatten())\n",
    "    model.add(Dense(10, activation='softmax'))\n",
    "    model.compile(optimizer=Adam(), loss='sparse_categorical_crossentropy', metrics=['accuracy'])\n",
    "    return model"
   ]
  },
  {
   "cell_type": "code",
   "execution_count": 11,
   "id": "56453568-fb54-4340-8224-0ee5d3f83425",
   "metadata": {
    "colab": {
     "base_uri": "https://localhost:8080/"
    },
    "id": "56453568-fb54-4340-8224-0ee5d3f83425",
    "outputId": "d0c71c69-bfa7-4892-b0f8-245bfc891edd"
   },
   "outputs": [
    {
     "name": "stdout",
     "output_type": "stream",
     "text": [
      "Activation Function: sigmoid\n",
      "Model: \"sequential_11\"\n",
      "_________________________________________________________________\n",
      " Layer (type)                Output Shape              Param #   \n",
      "=================================================================\n",
      " conv2d_20 (Conv2D)          (None, 26, 26, 16)        160       \n",
      "                                                                 \n",
      " conv2d_21 (Conv2D)          (None, 24, 24, 16)        2320      \n",
      "                                                                 \n",
      " flatten_11 (Flatten)        (None, 9216)              0         \n",
      "                                                                 \n",
      " dense_11 (Dense)            (None, 10)                92170     \n",
      "                                                                 \n",
      "=================================================================\n",
      "Total params: 94,650\n",
      "Trainable params: 94,650\n",
      "Non-trainable params: 0\n",
      "_________________________________________________________________\n",
      "Train Acc: 0.9679, Test Acc: 0.9670\n",
      "\n",
      "----------------------------------------------------------------------------------------------------------------------------------\n",
      "\n",
      "\n",
      "\n",
      "Activation Function: tanh\n",
      "Model: \"sequential_12\"\n",
      "_________________________________________________________________\n",
      " Layer (type)                Output Shape              Param #   \n",
      "=================================================================\n",
      " conv2d_22 (Conv2D)          (None, 26, 26, 16)        160       \n",
      "                                                                 \n",
      " conv2d_23 (Conv2D)          (None, 24, 24, 16)        2320      \n",
      "                                                                 \n",
      " flatten_12 (Flatten)        (None, 9216)              0         \n",
      "                                                                 \n",
      " dense_12 (Dense)            (None, 10)                92170     \n",
      "                                                                 \n",
      "=================================================================\n",
      "Total params: 94,650\n",
      "Trainable params: 94,650\n",
      "Non-trainable params: 0\n",
      "_________________________________________________________________\n",
      "Train Acc: 0.9820, Test Acc: 0.9768\n",
      "\n",
      "----------------------------------------------------------------------------------------------------------------------------------\n",
      "\n",
      "\n",
      "\n",
      "Activation Function: relu\n",
      "Model: \"sequential_13\"\n",
      "_________________________________________________________________\n",
      " Layer (type)                Output Shape              Param #   \n",
      "=================================================================\n",
      " conv2d_24 (Conv2D)          (None, 26, 26, 16)        160       \n",
      "                                                                 \n",
      " conv2d_25 (Conv2D)          (None, 24, 24, 16)        2320      \n",
      "                                                                 \n",
      " flatten_13 (Flatten)        (None, 9216)              0         \n",
      "                                                                 \n",
      " dense_13 (Dense)            (None, 10)                92170     \n",
      "                                                                 \n",
      "=================================================================\n",
      "Total params: 94,650\n",
      "Trainable params: 94,650\n",
      "Non-trainable params: 0\n",
      "_________________________________________________________________\n",
      "Train Acc: 0.9929, Test Acc: 0.9847\n",
      "\n",
      "----------------------------------------------------------------------------------------------------------------------------------\n",
      "\n",
      "\n",
      "\n"
     ]
    }
   ],
   "source": [
    "activation_functions = ['sigmoid', 'tanh', 'relu']\n",
    "for activation in activation_functions:\n",
    "    print(f\"Activation Function: {activation}\")\n",
    "    model = create_model(activation)\n",
    "    model.summary()\n",
    "    history = model.fit(x_train, y_train, epochs=5, validation_data=(x_test, y_test), verbose=0)\n",
    "    train_acc = history.history['accuracy'][-1]\n",
    "    test_acc = history.history['val_accuracy'][-1]\n",
    "    print(f\"Train Acc: {train_acc:.4f}, Test Acc: {test_acc:.4f}\\n\")\n",
    "    print(\"----------------------------------------------------------------------------------------------------------------------------------\")\n",
    "    print('\\n\\n')"
   ]
  },
  {
   "cell_type": "markdown",
   "id": "4c5291be-d792-4b90-8c99-97f4dc1e2f5b",
   "metadata": {
    "id": "4c5291be-d792-4b90-8c99-97f4dc1e2f5b"
   },
   "source": [
    "##### Step-5"
   ]
  },
  {
   "cell_type": "code",
   "execution_count": 12,
   "id": "4af0bfe7-c7f9-4611-82bc-f786c4301c24",
   "metadata": {
    "id": "4af0bfe7-c7f9-4611-82bc-f786c4301c24"
   },
   "outputs": [],
   "source": [
    "def create_model(filter_sizes):\n",
    "    model = Sequential()\n",
    "    model.add(Conv2D(16, (filter_sizes[0], filter_sizes[0]), activation='relu', input_shape=(28, 28, 1)))\n",
    "    model.add(Conv2D(16, (filter_sizes[1], filter_sizes[1]), activation='relu'))\n",
    "    model.add(Flatten())\n",
    "    model.add(Dense(10, activation='softmax'))\n",
    "    model.compile(optimizer=Adam(), loss='sparse_categorical_crossentropy', metrics=['accuracy'])\n",
    "    return model"
   ]
  },
  {
   "cell_type": "code",
   "execution_count": 13,
   "id": "ee83fd5b-0207-4171-ab97-8444e8feed14",
   "metadata": {
    "colab": {
     "base_uri": "https://localhost:8080/"
    },
    "id": "ee83fd5b-0207-4171-ab97-8444e8feed14",
    "outputId": "225243e2-0a88-4f42-ca47-ead3692231f4"
   },
   "outputs": [
    {
     "name": "stdout",
     "output_type": "stream",
     "text": [
      "Filter Sizes: (3, 3)\n",
      "Model: \"sequential_14\"\n",
      "_________________________________________________________________\n",
      " Layer (type)                Output Shape              Param #   \n",
      "=================================================================\n",
      " conv2d_26 (Conv2D)          (None, 26, 26, 16)        160       \n",
      "                                                                 \n",
      " conv2d_27 (Conv2D)          (None, 24, 24, 16)        2320      \n",
      "                                                                 \n",
      " flatten_14 (Flatten)        (None, 9216)              0         \n",
      "                                                                 \n",
      " dense_14 (Dense)            (None, 10)                92170     \n",
      "                                                                 \n",
      "=================================================================\n",
      "Total params: 94,650\n",
      "Trainable params: 94,650\n",
      "Non-trainable params: 0\n",
      "_________________________________________________________________\n",
      "Train Acc: 0.9937, Test Acc: 0.9854\n",
      "\n",
      "----------------------------------------------------------------------------------------------------------------------------------\n",
      "\n",
      "\n",
      "\n",
      "Filter Sizes: (3, 5)\n",
      "Model: \"sequential_15\"\n",
      "_________________________________________________________________\n",
      " Layer (type)                Output Shape              Param #   \n",
      "=================================================================\n",
      " conv2d_28 (Conv2D)          (None, 26, 26, 16)        160       \n",
      "                                                                 \n",
      " conv2d_29 (Conv2D)          (None, 22, 22, 16)        6416      \n",
      "                                                                 \n",
      " flatten_15 (Flatten)        (None, 7744)              0         \n",
      "                                                                 \n",
      " dense_15 (Dense)            (None, 10)                77450     \n",
      "                                                                 \n",
      "=================================================================\n",
      "Total params: 84,026\n",
      "Trainable params: 84,026\n",
      "Non-trainable params: 0\n",
      "_________________________________________________________________\n",
      "Train Acc: 0.9939, Test Acc: 0.9879\n",
      "\n",
      "----------------------------------------------------------------------------------------------------------------------------------\n",
      "\n",
      "\n",
      "\n",
      "Filter Sizes: (5, 3)\n",
      "Model: \"sequential_16\"\n",
      "_________________________________________________________________\n",
      " Layer (type)                Output Shape              Param #   \n",
      "=================================================================\n",
      " conv2d_30 (Conv2D)          (None, 24, 24, 16)        416       \n",
      "                                                                 \n",
      " conv2d_31 (Conv2D)          (None, 22, 22, 16)        2320      \n",
      "                                                                 \n",
      " flatten_16 (Flatten)        (None, 7744)              0         \n",
      "                                                                 \n",
      " dense_16 (Dense)            (None, 10)                77450     \n",
      "                                                                 \n",
      "=================================================================\n",
      "Total params: 80,186\n",
      "Trainable params: 80,186\n",
      "Non-trainable params: 0\n",
      "_________________________________________________________________\n",
      "Train Acc: 0.9924, Test Acc: 0.9878\n",
      "\n",
      "----------------------------------------------------------------------------------------------------------------------------------\n",
      "\n",
      "\n",
      "\n",
      "Filter Sizes: (5, 5)\n",
      "Model: \"sequential_17\"\n",
      "_________________________________________________________________\n",
      " Layer (type)                Output Shape              Param #   \n",
      "=================================================================\n",
      " conv2d_32 (Conv2D)          (None, 24, 24, 16)        416       \n",
      "                                                                 \n",
      " conv2d_33 (Conv2D)          (None, 20, 20, 16)        6416      \n",
      "                                                                 \n",
      " flatten_17 (Flatten)        (None, 6400)              0         \n",
      "                                                                 \n",
      " dense_17 (Dense)            (None, 10)                64010     \n",
      "                                                                 \n",
      "=================================================================\n",
      "Total params: 70,842\n",
      "Trainable params: 70,842\n",
      "Non-trainable params: 0\n",
      "_________________________________________________________________\n",
      "Train Acc: 0.9937, Test Acc: 0.9883\n",
      "\n",
      "----------------------------------------------------------------------------------------------------------------------------------\n",
      "\n",
      "\n",
      "\n"
     ]
    }
   ],
   "source": [
    "filter_size_combinations = [(3, 3), (3, 5), (5, 3), (5, 5)]\n",
    "for filter_sizes in filter_size_combinations:\n",
    "    print(f\"Filter Sizes: {filter_sizes}\")\n",
    "    model = create_model(filter_sizes)\n",
    "    model.summary()\n",
    "    history = model.fit(x_train, y_train, epochs=5, validation_data=(x_test, y_test), verbose=0)\n",
    "    train_acc = history.history['accuracy'][-1]\n",
    "    test_acc = history.history['val_accuracy'][-1]\n",
    "    print(f\"Train Acc: {train_acc:.4f}, Test Acc: {test_acc:.4f}\\n\")\n",
    "    print(\"----------------------------------------------------------------------------------------------------------------------------------\")\n",
    "    print('\\n\\n')"
   ]
  },
  {
   "cell_type": "markdown",
   "id": "f2574d7b-4274-44fc-a48a-9f97f21ac865",
   "metadata": {
    "id": "f2574d7b-4274-44fc-a48a-9f97f21ac865"
   },
   "source": [
    "##### Step-6"
   ]
  },
  {
   "cell_type": "code",
   "execution_count": 14,
   "id": "cb1542eb-f619-4b3b-bbf0-b969eab05f9f",
   "metadata": {
    "id": "cb1542eb-f619-4b3b-bbf0-b969eab05f9f"
   },
   "outputs": [],
   "source": [
    "def create_model(num_filters):\n",
    "    model = Sequential()\n",
    "    model.add(Conv2D(num_filters[0], (3, 3), activation='relu', input_shape=(28, 28, 1)))\n",
    "    model.add(Conv2D(num_filters[1], (3, 3), activation='relu'))\n",
    "    model.add(Flatten())\n",
    "    model.add(Dense(10, activation='softmax'))\n",
    "    model.compile(optimizer=Adam(), loss='sparse_categorical_crossentropy', metrics=['accuracy'])\n",
    "    return model"
   ]
  },
  {
   "cell_type": "code",
   "execution_count": 15,
   "id": "300bbce2-a367-4a83-bc8a-e8723875f3a0",
   "metadata": {
    "colab": {
     "base_uri": "https://localhost:8080/"
    },
    "id": "300bbce2-a367-4a83-bc8a-e8723875f3a0",
    "outputId": "ef0636c9-df68-4382-85ca-bf5c888e8254"
   },
   "outputs": [
    {
     "name": "stdout",
     "output_type": "stream",
     "text": [
      "Layer Filters: (16, 16)\n",
      "Model: \"sequential_18\"\n",
      "_________________________________________________________________\n",
      " Layer (type)                Output Shape              Param #   \n",
      "=================================================================\n",
      " conv2d_34 (Conv2D)          (None, 26, 26, 16)        160       \n",
      "                                                                 \n",
      " conv2d_35 (Conv2D)          (None, 24, 24, 16)        2320      \n",
      "                                                                 \n",
      " flatten_18 (Flatten)        (None, 9216)              0         \n",
      "                                                                 \n",
      " dense_18 (Dense)            (None, 10)                92170     \n",
      "                                                                 \n",
      "=================================================================\n",
      "Total params: 94,650\n",
      "Trainable params: 94,650\n",
      "Non-trainable params: 0\n",
      "_________________________________________________________________\n",
      "Train Acc: 0.9931, Test Acc: 0.9858\n",
      "\n",
      "----------------------------------------------------------------------------------------------------------------------------------\n",
      "\n",
      "\n",
      "\n",
      "Layer Filters: (32, 16)\n",
      "Model: \"sequential_19\"\n",
      "_________________________________________________________________\n",
      " Layer (type)                Output Shape              Param #   \n",
      "=================================================================\n",
      " conv2d_36 (Conv2D)          (None, 26, 26, 32)        320       \n",
      "                                                                 \n",
      " conv2d_37 (Conv2D)          (None, 24, 24, 16)        4624      \n",
      "                                                                 \n",
      " flatten_19 (Flatten)        (None, 9216)              0         \n",
      "                                                                 \n",
      " dense_19 (Dense)            (None, 10)                92170     \n",
      "                                                                 \n",
      "=================================================================\n",
      "Total params: 97,114\n",
      "Trainable params: 97,114\n",
      "Non-trainable params: 0\n",
      "_________________________________________________________________\n",
      "Train Acc: 0.9939, Test Acc: 0.9873\n",
      "\n",
      "----------------------------------------------------------------------------------------------------------------------------------\n",
      "\n",
      "\n",
      "\n",
      "Layer Filters: (16, 32)\n",
      "Model: \"sequential_20\"\n",
      "_________________________________________________________________\n",
      " Layer (type)                Output Shape              Param #   \n",
      "=================================================================\n",
      " conv2d_38 (Conv2D)          (None, 26, 26, 16)        160       \n",
      "                                                                 \n",
      " conv2d_39 (Conv2D)          (None, 24, 24, 32)        4640      \n",
      "                                                                 \n",
      " flatten_20 (Flatten)        (None, 18432)             0         \n",
      "                                                                 \n",
      " dense_20 (Dense)            (None, 10)                184330    \n",
      "                                                                 \n",
      "=================================================================\n",
      "Total params: 189,130\n",
      "Trainable params: 189,130\n",
      "Non-trainable params: 0\n",
      "_________________________________________________________________\n",
      "Train Acc: 0.9952, Test Acc: 0.9877\n",
      "\n",
      "----------------------------------------------------------------------------------------------------------------------------------\n",
      "\n",
      "\n",
      "\n",
      "Layer Filters: (32, 32)\n",
      "Model: \"sequential_21\"\n",
      "_________________________________________________________________\n",
      " Layer (type)                Output Shape              Param #   \n",
      "=================================================================\n",
      " conv2d_40 (Conv2D)          (None, 26, 26, 32)        320       \n",
      "                                                                 \n",
      " conv2d_41 (Conv2D)          (None, 24, 24, 32)        9248      \n",
      "                                                                 \n",
      " flatten_21 (Flatten)        (None, 18432)             0         \n",
      "                                                                 \n",
      " dense_21 (Dense)            (None, 10)                184330    \n",
      "                                                                 \n",
      "=================================================================\n",
      "Total params: 193,898\n",
      "Trainable params: 193,898\n",
      "Non-trainable params: 0\n",
      "_________________________________________________________________\n",
      "Train Acc: 0.9944, Test Acc: 0.9867\n",
      "\n",
      "----------------------------------------------------------------------------------------------------------------------------------\n",
      "\n",
      "\n",
      "\n"
     ]
    }
   ],
   "source": [
    "layer_filter_combinations = [(16, 16), (32, 16), (16, 32), (32, 32)]\n",
    "for num_filters in layer_filter_combinations:\n",
    "    print(f\"Layer Filters: {num_filters}\")\n",
    "    model = create_model(num_filters)\n",
    "    model.summary()\n",
    "    history = model.fit(x_train, y_train, epochs=5, validation_data=(x_test, y_test), verbose=0)\n",
    "    train_acc = history.history['accuracy'][-1]\n",
    "    test_acc = history.history['val_accuracy'][-1]\n",
    "    print(f\"Train Acc: {train_acc:.4f}, Test Acc: {test_acc:.4f}\\n\")\n",
    "    print(\"----------------------------------------------------------------------------------------------------------------------------------\")\n",
    "    print('\\n\\n')"
   ]
  },
  {
   "cell_type": "markdown",
   "id": "e38a472b-181f-4e26-9de8-2827fb49b2bc",
   "metadata": {
    "id": "e38a472b-181f-4e26-9de8-2827fb49b2bc"
   },
   "source": [
    "##### Step-7"
   ]
  },
  {
   "cell_type": "code",
   "execution_count": 16,
   "id": "ed88c965-8481-45ac-be95-01582fc374d2",
   "metadata": {
    "id": "ed88c965-8481-45ac-be95-01582fc374d2"
   },
   "outputs": [],
   "source": [
    "def create_model(strides):\n",
    "    model = Sequential()\n",
    "    model.add(Conv2D(32, (3, 3), strides=strides[0], activation='relu', input_shape=(28, 28, 1)))\n",
    "    model.add(Conv2D(32, (3, 3), strides=strides[1], activation='relu'))\n",
    "    model.add(Flatten())\n",
    "    model.add(Dense(10, activation='softmax'))\n",
    "    model.compile(optimizer=Adam(), loss='sparse_categorical_crossentropy', metrics=['accuracy'])\n",
    "    return model"
   ]
  },
  {
   "cell_type": "code",
   "execution_count": 17,
   "id": "8a5f817c-4346-4a97-a1af-21f17da52aaa",
   "metadata": {
    "colab": {
     "base_uri": "https://localhost:8080/"
    },
    "id": "8a5f817c-4346-4a97-a1af-21f17da52aaa",
    "outputId": "a4a9ac4b-c443-4184-816f-e3a8736e6a3c"
   },
   "outputs": [
    {
     "name": "stdout",
     "output_type": "stream",
     "text": [
      "Strides: (1, 1)\n",
      "Model: \"sequential_22\"\n",
      "_________________________________________________________________\n",
      " Layer (type)                Output Shape              Param #   \n",
      "=================================================================\n",
      " conv2d_42 (Conv2D)          (None, 26, 26, 32)        320       \n",
      "                                                                 \n",
      " conv2d_43 (Conv2D)          (None, 24, 24, 32)        9248      \n",
      "                                                                 \n",
      " flatten_22 (Flatten)        (None, 18432)             0         \n",
      "                                                                 \n",
      " dense_22 (Dense)            (None, 10)                184330    \n",
      "                                                                 \n",
      "=================================================================\n",
      "Total params: 193,898\n",
      "Trainable params: 193,898\n",
      "Non-trainable params: 0\n",
      "_________________________________________________________________\n",
      "Train Acc: 0.9948, Test Acc: 0.9869\n",
      "\n",
      "----------------------------------------------------------------------------------------------------------------------------------\n",
      "\n",
      "\n",
      "\n",
      "Strides: (2, 2)\n",
      "Model: \"sequential_23\"\n",
      "_________________________________________________________________\n",
      " Layer (type)                Output Shape              Param #   \n",
      "=================================================================\n",
      " conv2d_44 (Conv2D)          (None, 13, 13, 32)        320       \n",
      "                                                                 \n",
      " conv2d_45 (Conv2D)          (None, 6, 6, 32)          9248      \n",
      "                                                                 \n",
      " flatten_23 (Flatten)        (None, 1152)              0         \n",
      "                                                                 \n",
      " dense_23 (Dense)            (None, 10)                11530     \n",
      "                                                                 \n",
      "=================================================================\n",
      "Total params: 21,098\n",
      "Trainable params: 21,098\n",
      "Non-trainable params: 0\n",
      "_________________________________________________________________\n",
      "Train Acc: 0.9867, Test Acc: 0.9823\n",
      "\n",
      "----------------------------------------------------------------------------------------------------------------------------------\n",
      "\n",
      "\n",
      "\n",
      "Strides: (3, 3)\n",
      "Model: \"sequential_24\"\n",
      "_________________________________________________________________\n",
      " Layer (type)                Output Shape              Param #   \n",
      "=================================================================\n",
      " conv2d_46 (Conv2D)          (None, 9, 9, 32)          320       \n",
      "                                                                 \n",
      " conv2d_47 (Conv2D)          (None, 3, 3, 32)          9248      \n",
      "                                                                 \n",
      " flatten_24 (Flatten)        (None, 288)               0         \n",
      "                                                                 \n",
      " dense_24 (Dense)            (None, 10)                2890      \n",
      "                                                                 \n",
      "=================================================================\n",
      "Total params: 12,458\n",
      "Trainable params: 12,458\n",
      "Non-trainable params: 0\n",
      "_________________________________________________________________\n",
      "Train Acc: 0.9762, Test Acc: 0.9752\n",
      "\n",
      "----------------------------------------------------------------------------------------------------------------------------------\n",
      "\n",
      "\n",
      "\n"
     ]
    }
   ],
   "source": [
    "stride_values = [(1, 1), (2, 2), (3, 3)]\n",
    "for strides in stride_values:\n",
    "    print(f\"Strides: {strides}\")\n",
    "    model = create_model(strides)\n",
    "    model.summary()\n",
    "    history = model.fit(x_train, y_train, epochs=5, validation_data=(x_test, y_test), verbose=0)\n",
    "    train_acc = history.history['accuracy'][-1]\n",
    "    test_acc = history.history['val_accuracy'][-1]\n",
    "    print(f\"Train Acc: {train_acc:.4f}, Test Acc: {test_acc:.4f}\\n\")\n",
    "    print(\"----------------------------------------------------------------------------------------------------------------------------------\")\n",
    "    print('\\n\\n')"
   ]
  },
  {
   "cell_type": "markdown",
   "id": "daddb9c5-2d9f-4854-b3bb-1cd76d044d6c",
   "metadata": {
    "id": "daddb9c5-2d9f-4854-b3bb-1cd76d044d6c"
   },
   "source": [
    "##### Step-8"
   ]
  },
  {
   "cell_type": "code",
   "execution_count": 18,
   "id": "9ecd6f06-7a7a-4af9-95fa-aaeb8648f9ec",
   "metadata": {
    "id": "9ecd6f06-7a7a-4af9-95fa-aaeb8648f9ec"
   },
   "outputs": [],
   "source": [
    "def create_model(padding_mode):\n",
    "    model = Sequential()\n",
    "    model.add(Conv2D(32, (3, 3), padding=padding_mode, activation='relu', input_shape=(28, 28, 1)))\n",
    "    model.add(Conv2D(32, (3, 3), padding=padding_mode, activation='relu'))\n",
    "    model.add(Flatten())\n",
    "    model.add(Dense(10, activation='softmax'))\n",
    "    model.compile(optimizer=Adam(), loss='sparse_categorical_crossentropy', metrics=['accuracy'])\n",
    "    return model"
   ]
  },
  {
   "cell_type": "code",
   "execution_count": 19,
   "id": "b6200663-3a91-4306-883d-61a6168b6cd8",
   "metadata": {
    "colab": {
     "base_uri": "https://localhost:8080/"
    },
    "id": "b6200663-3a91-4306-883d-61a6168b6cd8",
    "outputId": "aa8df0d0-ce26-4e97-e07d-4d12242c9b49"
   },
   "outputs": [
    {
     "name": "stdout",
     "output_type": "stream",
     "text": [
      "Padding Mode: valid\n",
      "Model: \"sequential_25\"\n",
      "_________________________________________________________________\n",
      " Layer (type)                Output Shape              Param #   \n",
      "=================================================================\n",
      " conv2d_48 (Conv2D)          (None, 26, 26, 32)        320       \n",
      "                                                                 \n",
      " conv2d_49 (Conv2D)          (None, 24, 24, 32)        9248      \n",
      "                                                                 \n",
      " flatten_25 (Flatten)        (None, 18432)             0         \n",
      "                                                                 \n",
      " dense_25 (Dense)            (None, 10)                184330    \n",
      "                                                                 \n",
      "=================================================================\n",
      "Total params: 193,898\n",
      "Trainable params: 193,898\n",
      "Non-trainable params: 0\n",
      "_________________________________________________________________\n",
      "Train Acc: 0.9955, Test Acc: 0.9876\n",
      "\n",
      "----------------------------------------------------------------------------------------------------------------------------------\n",
      "\n",
      "\n",
      "\n",
      "Padding Mode: same\n",
      "Model: \"sequential_26\"\n",
      "_________________________________________________________________\n",
      " Layer (type)                Output Shape              Param #   \n",
      "=================================================================\n",
      " conv2d_50 (Conv2D)          (None, 28, 28, 32)        320       \n",
      "                                                                 \n",
      " conv2d_51 (Conv2D)          (None, 28, 28, 32)        9248      \n",
      "                                                                 \n",
      " flatten_26 (Flatten)        (None, 25088)             0         \n",
      "                                                                 \n",
      " dense_26 (Dense)            (None, 10)                250890    \n",
      "                                                                 \n",
      "=================================================================\n",
      "Total params: 260,458\n",
      "Trainable params: 260,458\n",
      "Non-trainable params: 0\n",
      "_________________________________________________________________\n",
      "Train Acc: 0.9953, Test Acc: 0.9859\n",
      "\n",
      "----------------------------------------------------------------------------------------------------------------------------------\n",
      "\n",
      "\n",
      "\n"
     ]
    }
   ],
   "source": [
    "padding_modes = ['valid', 'same']\n",
    "for padding_mode in padding_modes:\n",
    "    print(f\"Padding Mode: {padding_mode}\")\n",
    "    model = create_model(padding_mode)\n",
    "    model.summary()\n",
    "    history = model.fit(x_train, y_train, epochs=5, validation_data=(x_test, y_test), verbose=0)\n",
    "    train_acc = history.history['accuracy'][-1]\n",
    "    test_acc = history.history['val_accuracy'][-1]\n",
    "    print(f\"Train Acc: {train_acc:.4f}, Test Acc: {test_acc:.4f}\\n\")\n",
    "    print(\"----------------------------------------------------------------------------------------------------------------------------------\")\n",
    "    print('\\n\\n')"
   ]
  },
  {
   "cell_type": "markdown",
   "id": "52bba0e3-8423-43f9-9ac0-4ed57584b4ae",
   "metadata": {
    "id": "52bba0e3-8423-43f9-9ac0-4ed57584b4ae"
   },
   "source": [
    "##### Step-9"
   ]
  },
  {
   "cell_type": "code",
   "execution_count": 20,
   "id": "a998cc20-2373-4075-8f88-352ee11ef141",
   "metadata": {
    "id": "a998cc20-2373-4075-8f88-352ee11ef141"
   },
   "outputs": [],
   "source": [
    "def create_model(pooling_size):\n",
    "    model = Sequential()\n",
    "    model.add(Conv2D(32, (3, 3), activation='relu', input_shape=(28, 28, 1)))\n",
    "    model.add(Conv2D(32, (3, 3), activation='relu'))\n",
    "    model.add(MaxPooling2D(pool_size=pooling_size))\n",
    "    model.add(Flatten())\n",
    "    model.add(Dense(10, activation='softmax'))\n",
    "    model.compile(optimizer=Adam(), loss='sparse_categorical_crossentropy', metrics=['accuracy'])\n",
    "    return model"
   ]
  },
  {
   "cell_type": "code",
   "execution_count": 21,
   "id": "8a9d2e7e-797e-4223-9876-9fc744b52415",
   "metadata": {
    "colab": {
     "base_uri": "https://localhost:8080/"
    },
    "id": "8a9d2e7e-797e-4223-9876-9fc744b52415",
    "outputId": "3d628205-5ad0-4361-92dd-347931a0d08d"
   },
   "outputs": [
    {
     "name": "stdout",
     "output_type": "stream",
     "text": [
      "Pooling Size: 2x2\n",
      "Model: \"sequential_27\"\n",
      "_________________________________________________________________\n",
      " Layer (type)                Output Shape              Param #   \n",
      "=================================================================\n",
      " conv2d_52 (Conv2D)          (None, 26, 26, 32)        320       \n",
      "                                                                 \n",
      " conv2d_53 (Conv2D)          (None, 24, 24, 32)        9248      \n",
      "                                                                 \n",
      " max_pooling2d (MaxPooling2D  (None, 12, 12, 32)       0         \n",
      " )                                                               \n",
      "                                                                 \n",
      " flatten_27 (Flatten)        (None, 4608)              0         \n",
      "                                                                 \n",
      " dense_27 (Dense)            (None, 10)                46090     \n",
      "                                                                 \n",
      "=================================================================\n",
      "Total params: 55,658\n",
      "Trainable params: 55,658\n",
      "Non-trainable params: 0\n",
      "_________________________________________________________________\n",
      "Train Acc: 0.9934, Test Acc: 0.9889\n",
      "\n",
      "----------------------------------------------------------------------------------------------------------------------------------\n",
      "\n",
      "\n",
      "\n",
      "Pooling Size: 3x3\n",
      "Model: \"sequential_28\"\n",
      "_________________________________________________________________\n",
      " Layer (type)                Output Shape              Param #   \n",
      "=================================================================\n",
      " conv2d_54 (Conv2D)          (None, 26, 26, 32)        320       \n",
      "                                                                 \n",
      " conv2d_55 (Conv2D)          (None, 24, 24, 32)        9248      \n",
      "                                                                 \n",
      " max_pooling2d_1 (MaxPooling  (None, 8, 8, 32)         0         \n",
      " 2D)                                                             \n",
      "                                                                 \n",
      " flatten_28 (Flatten)        (None, 2048)              0         \n",
      "                                                                 \n",
      " dense_28 (Dense)            (None, 10)                20490     \n",
      "                                                                 \n",
      "=================================================================\n",
      "Total params: 30,058\n",
      "Trainable params: 30,058\n",
      "Non-trainable params: 0\n",
      "_________________________________________________________________\n",
      "Train Acc: 0.9918, Test Acc: 0.9885\n",
      "\n",
      "----------------------------------------------------------------------------------------------------------------------------------\n",
      "\n",
      "\n",
      "\n"
     ]
    }
   ],
   "source": [
    "pooling_sizes = [(2, 2), (3, 3)]\n",
    "for pooling_size in pooling_sizes:\n",
    "    print(f\"Pooling Size: {pooling_size[0]}x{pooling_size[1]}\")\n",
    "    model = create_model(pooling_size)\n",
    "    model.summary()\n",
    "    history = model.fit(x_train, y_train, epochs=5, validation_data=(x_test, y_test), verbose=0)\n",
    "    train_acc = history.history['accuracy'][-1]\n",
    "    test_acc = history.history['val_accuracy'][-1]\n",
    "    print(f\"Train Acc: {train_acc:.4f}, Test Acc: {test_acc:.4f}\\n\")\n",
    "    print(\"----------------------------------------------------------------------------------------------------------------------------------\")\n",
    "    print('\\n\\n')"
   ]
  },
  {
   "cell_type": "code",
   "execution_count": 21,
   "id": "ed051546-f0d2-4cd4-b8fd-186265d7d992",
   "metadata": {
    "id": "ed051546-f0d2-4cd4-b8fd-186265d7d992"
   },
   "outputs": [],
   "source": []
  }
 ],
 "metadata": {
  "accelerator": "GPU",
  "colab": {
   "gpuType": "T4",
   "provenance": []
  },
  "kernelspec": {
   "display_name": "Python 3 (ipykernel)",
   "language": "python",
   "name": "python3"
  },
  "language_info": {
   "codemirror_mode": {
    "name": "ipython",
    "version": 3
   },
   "file_extension": ".py",
   "mimetype": "text/x-python",
   "name": "python",
   "nbconvert_exporter": "python",
   "pygments_lexer": "ipython3",
   "version": "3.9.12"
  }
 },
 "nbformat": 4,
 "nbformat_minor": 5
}
