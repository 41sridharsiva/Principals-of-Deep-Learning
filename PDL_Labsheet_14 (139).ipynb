{
 "cells": [
  {
   "cell_type": "markdown",
   "id": "346c6afe",
   "metadata": {},
   "source": [
    "## PDL LABSHEET 14"
   ]
  },
  {
   "cell_type": "markdown",
   "id": "51ede092",
   "metadata": {},
   "source": [
    "### SRIDHAR S"
   ]
  },
  {
   "cell_type": "markdown",
   "id": "3385a299",
   "metadata": {},
   "source": [
    "### 225229139"
   ]
  },
  {
   "cell_type": "markdown",
   "id": "32427d36",
   "metadata": {
    "id": "32427d36"
   },
   "source": [
    "##### Step-1"
   ]
  },
  {
   "cell_type": "code",
   "execution_count": 1,
   "id": "a9704302",
   "metadata": {
    "id": "a9704302"
   },
   "outputs": [],
   "source": [
    "from tensorflow.keras.datasets import cifar10"
   ]
  },
  {
   "cell_type": "markdown",
   "id": "b08cf401",
   "metadata": {
    "id": "b08cf401"
   },
   "source": [
    "##### Step-2"
   ]
  },
  {
   "cell_type": "code",
   "execution_count": 2,
   "id": "93c32bac",
   "metadata": {
    "colab": {
     "base_uri": "https://localhost:8080/"
    },
    "id": "93c32bac",
    "outputId": "db90b384-0c5b-47bd-b32b-8e2581464c07"
   },
   "outputs": [
    {
     "name": "stdout",
     "output_type": "stream",
     "text": [
      "Downloading data from https://www.cs.toronto.edu/~kriz/cifar-10-python.tar.gz\n",
      "170498071/170498071 [==============================] - 3s 0us/step\n"
     ]
    }
   ],
   "source": [
    "(x_train, y_train), (x_test, y_test) = cifar10.load_data()"
   ]
  },
  {
   "cell_type": "markdown",
   "id": "517d5f66",
   "metadata": {
    "id": "517d5f66"
   },
   "source": [
    "##### Step-3"
   ]
  },
  {
   "cell_type": "code",
   "execution_count": 3,
   "id": "109ba144",
   "metadata": {
    "id": "109ba144"
   },
   "outputs": [],
   "source": [
    "x_train = x_train / 255.0\n",
    "x_test = x_test / 255.0"
   ]
  },
  {
   "cell_type": "markdown",
   "id": "59d19e88",
   "metadata": {
    "id": "59d19e88"
   },
   "source": [
    "##### Step- 4"
   ]
  },
  {
   "cell_type": "code",
   "execution_count": 4,
   "id": "7383b3f1",
   "metadata": {
    "id": "7383b3f1"
   },
   "outputs": [],
   "source": [
    "from tensorflow.keras.utils import to_categorical\n",
    "y_train = to_categorical(y_train, num_classes=10)\n",
    "y_test = to_categorical(y_test, num_classes=10)"
   ]
  },
  {
   "cell_type": "markdown",
   "id": "e89fd97f",
   "metadata": {
    "id": "e89fd97f"
   },
   "source": [
    "##### Step-5"
   ]
  },
  {
   "cell_type": "code",
   "execution_count": 5,
   "id": "f7ceda51",
   "metadata": {
    "colab": {
     "base_uri": "https://localhost:8080/"
    },
    "id": "f7ceda51",
    "outputId": "cd959a37-8dde-4d54-ddf0-a5c771a00058"
   },
   "outputs": [
    {
     "name": "stdout",
     "output_type": "stream",
     "text": [
      "Model: \"sequential\"\n",
      "_________________________________________________________________\n",
      " Layer (type)                Output Shape              Param #   \n",
      "=================================================================\n",
      " conv2d (Conv2D)             (None, 16, 16, 32)        2432      \n",
      "                                                                 \n",
      " activation (Activation)     (None, 16, 16, 32)        0         \n",
      "                                                                 \n",
      " conv2d_1 (Conv2D)           (None, 6, 6, 32)          25632     \n",
      "                                                                 \n",
      " activation_1 (Activation)   (None, 6, 6, 32)          0         \n",
      "                                                                 \n",
      " max_pooling2d (MaxPooling2  (None, 3, 3, 32)          0         \n",
      " D)                                                              \n",
      "                                                                 \n",
      " dropout (Dropout)           (None, 3, 3, 32)          0         \n",
      "                                                                 \n",
      " flatten (Flatten)           (None, 288)               0         \n",
      "                                                                 \n",
      " dense (Dense)               (None, 512)               147968    \n",
      "                                                                 \n",
      " activation_2 (Activation)   (None, 512)               0         \n",
      "                                                                 \n",
      " dropout_1 (Dropout)         (None, 512)               0         \n",
      "                                                                 \n",
      " dense_1 (Dense)             (None, 10)                5130      \n",
      "                                                                 \n",
      " activation_3 (Activation)   (None, 10)                0         \n",
      "                                                                 \n",
      "=================================================================\n",
      "Total params: 181162 (707.66 KB)\n",
      "Trainable params: 181162 (707.66 KB)\n",
      "Non-trainable params: 0 (0.00 Byte)\n",
      "_________________________________________________________________\n"
     ]
    }
   ],
   "source": [
    "from tensorflow.keras.models import Sequential\n",
    "from tensorflow.keras.layers import Conv2D, Activation, MaxPooling2D, Dropout, Flatten, Dense\n",
    "model = Sequential()\n",
    "model.add(Conv2D(32, (5, 5), strides=(2, 2), padding='same', input_shape=x_train.shape[1:]))\n",
    "model.add(Activation('relu'))\n",
    "model.add(Conv2D(32, (5, 5), strides=(2, 2)))\n",
    "model.add(Activation('relu'))\n",
    "model.add(MaxPooling2D(pool_size=(2, 2)))\n",
    "model.add(Dropout(0.25))\n",
    "model.add(Flatten())\n",
    "model.add(Dense(512))\n",
    "model.add(Activation('relu'))\n",
    "model.add(Dropout(0.5))\n",
    "model.add(Dense(10))\n",
    "model.add(Activation('softmax'))\n",
    "model.summary()"
   ]
  },
  {
   "cell_type": "markdown",
   "id": "e364d565",
   "metadata": {
    "id": "e364d565"
   },
   "source": [
    "##### Step-6"
   ]
  },
  {
   "cell_type": "code",
   "execution_count": 6,
   "id": "pXvjeFoIPo8x",
   "metadata": {
    "id": "pXvjeFoIPo8x"
   },
   "outputs": [],
   "source": [
    "import tensorflow as tf"
   ]
  },
  {
   "cell_type": "code",
   "execution_count": 7,
   "id": "b802408e",
   "metadata": {
    "colab": {
     "base_uri": "https://localhost:8080/"
    },
    "id": "b802408e",
    "outputId": "02a01701-ec11-4bd9-c2c1-13f8ca88c1fc"
   },
   "outputs": [
    {
     "name": "stdout",
     "output_type": "stream",
     "text": [
      "Epoch 1/15\n",
      "1563/1563 [==============================] - 19s 5ms/step - loss: 1.7174 - accuracy: 0.3655 - val_loss: 1.4220 - val_accuracy: 0.4911\n",
      "Epoch 2/15\n",
      "1563/1563 [==============================] - 8s 5ms/step - loss: 1.4534 - accuracy: 0.4722 - val_loss: 1.3717 - val_accuracy: 0.5162\n",
      "Epoch 3/15\n",
      "1563/1563 [==============================] - 8s 5ms/step - loss: 1.3520 - accuracy: 0.5115 - val_loss: 1.2409 - val_accuracy: 0.5613\n",
      "Epoch 4/15\n",
      "1563/1563 [==============================] - 8s 5ms/step - loss: 1.2819 - accuracy: 0.5417 - val_loss: 1.1726 - val_accuracy: 0.5834\n",
      "Epoch 5/15\n",
      "1563/1563 [==============================] - 9s 6ms/step - loss: 1.2313 - accuracy: 0.5622 - val_loss: 1.1423 - val_accuracy: 0.6041\n",
      "Epoch 6/15\n",
      "1563/1563 [==============================] - 8s 5ms/step - loss: 1.1868 - accuracy: 0.5757 - val_loss: 1.0898 - val_accuracy: 0.6132\n",
      "Epoch 7/15\n",
      "1563/1563 [==============================] - 8s 5ms/step - loss: 1.1488 - accuracy: 0.5932 - val_loss: 1.0646 - val_accuracy: 0.6281\n",
      "Epoch 8/15\n",
      "1563/1563 [==============================] - 9s 6ms/step - loss: 1.1161 - accuracy: 0.6030 - val_loss: 1.0709 - val_accuracy: 0.6284\n",
      "Epoch 9/15\n",
      "1563/1563 [==============================] - 8s 5ms/step - loss: 1.0878 - accuracy: 0.6127 - val_loss: 1.0359 - val_accuracy: 0.6352\n",
      "Epoch 10/15\n",
      "1563/1563 [==============================] - 8s 5ms/step - loss: 1.0650 - accuracy: 0.6223 - val_loss: 0.9927 - val_accuracy: 0.6542\n",
      "Epoch 11/15\n",
      "1563/1563 [==============================] - 9s 6ms/step - loss: 1.0417 - accuracy: 0.6287 - val_loss: 0.9616 - val_accuracy: 0.6594\n",
      "Epoch 12/15\n",
      "1563/1563 [==============================] - 8s 5ms/step - loss: 1.0194 - accuracy: 0.6383 - val_loss: 0.9663 - val_accuracy: 0.6623\n",
      "Epoch 13/15\n",
      "1563/1563 [==============================] - 8s 5ms/step - loss: 1.0071 - accuracy: 0.6424 - val_loss: 0.9594 - val_accuracy: 0.6656\n",
      "Epoch 14/15\n",
      "1563/1563 [==============================] - 8s 5ms/step - loss: 0.9842 - accuracy: 0.6500 - val_loss: 0.9440 - val_accuracy: 0.6712\n",
      "Epoch 15/15\n",
      "1563/1563 [==============================] - 9s 5ms/step - loss: 0.9722 - accuracy: 0.6541 - val_loss: 0.9532 - val_accuracy: 0.6663\n"
     ]
    },
    {
     "data": {
      "text/plain": [
       "<keras.src.callbacks.History at 0x78c765c426b0>"
      ]
     },
     "execution_count": 7,
     "metadata": {},
     "output_type": "execute_result"
    }
   ],
   "source": [
    "import tensorflow as tf\n",
    "opt = tf.keras.optimizers.Adam(learning_rate=0.0005)\n",
    "model.compile(loss='categorical_crossentropy', optimizer=opt, metrics=['accuracy'])\n",
    "model.fit(x_train, y_train, batch_size=32, epochs=15, validation_data=(x_test, y_test))"
   ]
  },
  {
   "cell_type": "markdown",
   "id": "0fded9e7",
   "metadata": {
    "id": "0fded9e7"
   },
   "source": [
    "##### Step-7"
   ]
  },
  {
   "cell_type": "code",
   "execution_count": 8,
   "id": "a38c0ba8",
   "metadata": {
    "id": "a38c0ba8"
   },
   "outputs": [],
   "source": [
    "from tensorflow.keras.preprocessing.image import ImageDataGenerator\n",
    "datagen = ImageDataGenerator(featurewise_center=False,samplewise_center=False,featurewise_std_normalization=False,samplewise_std_normalization=False,zca_whitening=False,rotation_range=0,width_shift_range=0.1,height_shift_range=0.1,horizontal_flip=True,vertical_flip=False)\n",
    "datagen.fit(x_train)"
   ]
  },
  {
   "cell_type": "code",
   "execution_count": 9,
   "id": "67d30a1b",
   "metadata": {
    "colab": {
     "base_uri": "https://localhost:8080/"
    },
    "id": "67d30a1b",
    "outputId": "a47cfa18-ee12-4076-d303-79987cce8669"
   },
   "outputs": [
    {
     "name": "stdout",
     "output_type": "stream",
     "text": [
      "Epoch 1/15\n"
     ]
    },
    {
     "name": "stderr",
     "output_type": "stream",
     "text": [
      "<ipython-input-9-f5802742130b>:1: UserWarning: `Model.fit_generator` is deprecated and will be removed in a future version. Please use `Model.fit`, which supports generators.\n",
      "  model.fit_generator(datagen.flow(x_train, y_train, batch_size=32),steps_per_epoch=x_train.shape[0] // 32,epochs=15,validation_data=(x_test, y_test))\n"
     ]
    },
    {
     "name": "stdout",
     "output_type": "stream",
     "text": [
      "1562/1562 [==============================] - 34s 22ms/step - loss: 1.1614 - accuracy: 0.5874 - val_loss: 0.9664 - val_accuracy: 0.6629\n",
      "Epoch 2/15\n",
      "1562/1562 [==============================] - 34s 22ms/step - loss: 1.1439 - accuracy: 0.5963 - val_loss: 0.9756 - val_accuracy: 0.6627\n",
      "Epoch 3/15\n",
      "1562/1562 [==============================] - 34s 22ms/step - loss: 1.1254 - accuracy: 0.6008 - val_loss: 0.9336 - val_accuracy: 0.6760\n",
      "Epoch 4/15\n",
      "1562/1562 [==============================] - 35s 22ms/step - loss: 1.1149 - accuracy: 0.6086 - val_loss: 0.9326 - val_accuracy: 0.6735\n",
      "Epoch 5/15\n",
      "1562/1562 [==============================] - 34s 22ms/step - loss: 1.1037 - accuracy: 0.6102 - val_loss: 0.9164 - val_accuracy: 0.6826\n",
      "Epoch 6/15\n",
      "1562/1562 [==============================] - 34s 22ms/step - loss: 1.0907 - accuracy: 0.6130 - val_loss: 0.9102 - val_accuracy: 0.6890\n",
      "Epoch 7/15\n",
      "1562/1562 [==============================] - 33s 21ms/step - loss: 1.0815 - accuracy: 0.6164 - val_loss: 0.9204 - val_accuracy: 0.6811\n",
      "Epoch 8/15\n",
      "1562/1562 [==============================] - 34s 21ms/step - loss: 1.0760 - accuracy: 0.6205 - val_loss: 0.9231 - val_accuracy: 0.6906\n",
      "Epoch 9/15\n",
      "1562/1562 [==============================] - 34s 21ms/step - loss: 1.0698 - accuracy: 0.6235 - val_loss: 0.9060 - val_accuracy: 0.6794\n",
      "Epoch 10/15\n",
      "1562/1562 [==============================] - 35s 22ms/step - loss: 1.0540 - accuracy: 0.6310 - val_loss: 0.8998 - val_accuracy: 0.6858\n",
      "Epoch 11/15\n",
      "1562/1562 [==============================] - 34s 22ms/step - loss: 1.0488 - accuracy: 0.6311 - val_loss: 0.8881 - val_accuracy: 0.6916\n",
      "Epoch 12/15\n",
      "1562/1562 [==============================] - 34s 22ms/step - loss: 1.0469 - accuracy: 0.6337 - val_loss: 0.8829 - val_accuracy: 0.6936\n",
      "Epoch 13/15\n",
      "1562/1562 [==============================] - 34s 22ms/step - loss: 1.0377 - accuracy: 0.6338 - val_loss: 0.9085 - val_accuracy: 0.6842\n",
      "Epoch 14/15\n",
      "1562/1562 [==============================] - 34s 22ms/step - loss: 1.0308 - accuracy: 0.6361 - val_loss: 0.8771 - val_accuracy: 0.6916\n",
      "Epoch 15/15\n",
      "1562/1562 [==============================] - 34s 21ms/step - loss: 1.0223 - accuracy: 0.6384 - val_loss: 0.8306 - val_accuracy: 0.7107\n"
     ]
    },
    {
     "data": {
      "text/plain": [
       "<keras.src.callbacks.History at 0x78c7f5632ec0>"
      ]
     },
     "execution_count": 9,
     "metadata": {},
     "output_type": "execute_result"
    }
   ],
   "source": [
    "model.fit_generator(datagen.flow(x_train, y_train, batch_size=32),steps_per_epoch=x_train.shape[0] // 32,epochs=15,validation_data=(x_test, y_test))"
   ]
  },
  {
   "cell_type": "markdown",
   "id": "f21255f5",
   "metadata": {
    "id": "f21255f5"
   },
   "source": [
    "##### Step-8"
   ]
  },
  {
   "cell_type": "markdown",
   "id": "f035fdba",
   "metadata": {
    "id": "f035fdba"
   },
   "source": [
    "##### How does the performance compare with the non-augmented training?"
   ]
  },
  {
   "cell_type": "markdown",
   "id": "be7f9a56",
   "metadata": {
    "id": "be7f9a56"
   },
   "source": [
    "Data augmentation can help improve the model's performance, especially when you have limited training data. By augmenting the dataset with variations of the original images (e.g., rotations, shifts, flips), the model becomes more robust and generalizes better. It's likely that the model trained with data augmentation will perform better than the non-augmented model."
   ]
  },
  {
   "cell_type": "markdown",
   "id": "bbbe1e6d",
   "metadata": {
    "id": "bbbe1e6d"
   },
   "source": [
    "###### Experiment above with different settings of the data augmentation parameters. Can you make the model do better? Can you make it do worse?"
   ]
  },
  {
   "cell_type": "markdown",
   "id": "04190423",
   "metadata": {
    "id": "04190423"
   },
   "source": [
    "Experimenting with different data augmentation parameters can indeed affect the model's performance. For example, increasing the rotation range, shift range, or enabling vertical flips might provide more variations for the model to learn from, potentially improving performance. However, extreme augmentations or excessive randomness may lead to overfitting or make the model perform worse. It's essential to strike a balance and conduct experiments to find the optimal augmentation settings for your specific dataset and task."
   ]
  },
  {
   "cell_type": "markdown",
   "id": "f32cbad8",
   "metadata": {
    "id": "f32cbad8"
   },
   "source": [
    "##### Step-9"
   ]
  },
  {
   "cell_type": "code",
   "execution_count": 9,
   "id": "iFaOsK2KT7ek",
   "metadata": {
    "id": "iFaOsK2KT7ek"
   },
   "outputs": [],
   "source": [
    "import tensorflow as tf\n",
    "from tensorflow.keras.models import Sequential\n",
    "from tensorflow.keras.layers import Conv2D, MaxPooling2D, Flatten, Dense"
   ]
  },
  {
   "cell_type": "code",
   "execution_count": 10,
   "id": "8d3314cf",
   "metadata": {
    "colab": {
     "base_uri": "https://localhost:8080/"
    },
    "id": "8d3314cf",
    "outputId": "e3787b57-5c0e-4e75-d78b-b616dd75fdd7"
   },
   "outputs": [
    {
     "name": "stdout",
     "output_type": "stream",
     "text": [
      "Model: \"sequential_1\"\n",
      "_________________________________________________________________\n",
      " Layer (type)                Output Shape              Param #   \n",
      "=================================================================\n",
      " conv2d_2 (Conv2D)           (None, 32, 32, 64)        1792      \n",
      "                                                                 \n",
      " conv2d_3 (Conv2D)           (None, 32, 32, 64)        36928     \n",
      "                                                                 \n",
      " max_pooling2d_1 (MaxPoolin  (None, 16, 16, 64)        0         \n",
      " g2D)                                                            \n",
      "                                                                 \n",
      " conv2d_4 (Conv2D)           (None, 16, 16, 128)       73856     \n",
      "                                                                 \n",
      " conv2d_5 (Conv2D)           (None, 16, 16, 128)       147584    \n",
      "                                                                 \n",
      " max_pooling2d_2 (MaxPoolin  (None, 8, 8, 128)         0         \n",
      " g2D)                                                            \n",
      "                                                                 \n",
      " flatten_1 (Flatten)         (None, 8192)              0         \n",
      "                                                                 \n",
      " dense_2 (Dense)             (None, 512)               4194816   \n",
      "                                                                 \n",
      " dense_3 (Dense)             (None, 10)                5130      \n",
      "                                                                 \n",
      "=================================================================\n",
      "Total params: 4460106 (17.01 MB)\n",
      "Trainable params: 4460106 (17.01 MB)\n",
      "Non-trainable params: 0 (0.00 Byte)\n",
      "_________________________________________________________________\n",
      "Epoch 1/15\n"
     ]
    },
    {
     "name": "stderr",
     "output_type": "stream",
     "text": [
      "<ipython-input-10-ae31c190fa10>:17: UserWarning: `Model.fit_generator` is deprecated and will be removed in a future version. Please use `Model.fit`, which supports generators.\n",
      "  model_complicated.fit_generator(datagen.flow(x_train, y_train, batch_size=32),steps_per_epoch=x_train.shape[0] // 32,epochs=15,validation_data=(x_test, y_test))\n"
     ]
    },
    {
     "name": "stdout",
     "output_type": "stream",
     "text": [
      "1562/1562 [==============================] - 42s 25ms/step - loss: 1.4191 - accuracy: 0.4829 - val_loss: 0.9789 - val_accuracy: 0.6520\n",
      "Epoch 2/15\n",
      "1562/1562 [==============================] - 39s 25ms/step - loss: 0.9410 - accuracy: 0.6692 - val_loss: 0.8187 - val_accuracy: 0.7087\n",
      "Epoch 3/15\n",
      "1562/1562 [==============================] - 39s 25ms/step - loss: 0.7805 - accuracy: 0.7254 - val_loss: 0.6955 - val_accuracy: 0.7575\n",
      "Epoch 4/15\n",
      "1562/1562 [==============================] - 38s 24ms/step - loss: 0.6841 - accuracy: 0.7602 - val_loss: 0.6393 - val_accuracy: 0.7802\n",
      "Epoch 5/15\n",
      "1562/1562 [==============================] - 38s 24ms/step - loss: 0.6111 - accuracy: 0.7870 - val_loss: 0.6055 - val_accuracy: 0.7964\n",
      "Epoch 6/15\n",
      "1562/1562 [==============================] - 38s 25ms/step - loss: 0.5540 - accuracy: 0.8075 - val_loss: 0.5772 - val_accuracy: 0.8081\n",
      "Epoch 7/15\n",
      "1562/1562 [==============================] - 38s 24ms/step - loss: 0.5074 - accuracy: 0.8253 - val_loss: 0.5505 - val_accuracy: 0.8199\n",
      "Epoch 8/15\n",
      "1562/1562 [==============================] - 38s 24ms/step - loss: 0.4699 - accuracy: 0.8365 - val_loss: 0.5422 - val_accuracy: 0.8220\n",
      "Epoch 9/15\n",
      "1562/1562 [==============================] - 38s 24ms/step - loss: 0.4365 - accuracy: 0.8475 - val_loss: 0.5710 - val_accuracy: 0.8205\n",
      "Epoch 10/15\n",
      "1562/1562 [==============================] - 39s 25ms/step - loss: 0.4057 - accuracy: 0.8588 - val_loss: 0.5954 - val_accuracy: 0.8174\n",
      "Epoch 11/15\n",
      "1562/1562 [==============================] - 38s 24ms/step - loss: 0.3795 - accuracy: 0.8670 - val_loss: 0.5426 - val_accuracy: 0.8279\n",
      "Epoch 12/15\n",
      "1562/1562 [==============================] - 38s 24ms/step - loss: 0.3630 - accuracy: 0.8732 - val_loss: 0.5323 - val_accuracy: 0.8307\n",
      "Epoch 13/15\n",
      "1562/1562 [==============================] - 38s 24ms/step - loss: 0.3383 - accuracy: 0.8841 - val_loss: 0.5434 - val_accuracy: 0.8362\n",
      "Epoch 14/15\n",
      "1562/1562 [==============================] - 38s 25ms/step - loss: 0.3202 - accuracy: 0.8886 - val_loss: 0.5212 - val_accuracy: 0.8408\n",
      "Epoch 15/15\n",
      "1562/1562 [==============================] - 38s 24ms/step - loss: 0.3046 - accuracy: 0.8944 - val_loss: 0.5036 - val_accuracy: 0.8441\n"
     ]
    },
    {
     "data": {
      "text/plain": [
       "<keras.src.callbacks.History at 0x78c763095930>"
      ]
     },
     "execution_count": 10,
     "metadata": {},
     "output_type": "execute_result"
    }
   ],
   "source": [
    "model_complicated = Sequential()\n",
    "model_complicated.add(Conv2D(64, (3, 3), strides=(1, 1), padding='same', input_shape=x_train.shape[1:], activation='relu'))\n",
    "model_complicated.add(Conv2D(64, (3, 3), strides=(1, 1), padding='same', activation='relu'))\n",
    "model_complicated.add(MaxPooling2D(pool_size=(2, 2)))\n",
    "model_complicated.add(Conv2D(128, (3, 3), strides=(1, 1), padding='same', activation='relu'))\n",
    "model_complicated.add(Conv2D(128, (3, 3), strides=(1, 1), padding='same', activation='relu'))\n",
    "model_complicated.add(MaxPooling2D(pool_size=(2, 2)))\n",
    "model_complicated.add(Flatten())\n",
    "model_complicated.add(Dense(512, activation='relu'))\n",
    "model_complicated.add(Dense(10, activation='softmax'))\n",
    "model_complicated.summary()\n",
    "opt_complicated = tf.keras.optimizers.Adam(learning_rate=0.0005)\n",
    "model_complicated.compile(loss='categorical_crossentropy', optimizer=opt_complicated, metrics=['accuracy'])\n",
    "model_complicated.fit_generator(datagen.flow(x_train, y_train, batch_size=32),steps_per_epoch=x_train.shape[0] // 32,epochs=15,validation_data=(x_test, y_test))"
   ]
  },
  {
   "cell_type": "code",
   "execution_count": 10,
   "id": "nXhG_2pQRKSl",
   "metadata": {
    "id": "nXhG_2pQRKSl"
   },
   "outputs": [],
   "source": []
  }
 ],
 "metadata": {
  "accelerator": "GPU",
  "colab": {
   "gpuType": "T4",
   "provenance": []
  },
  "kernelspec": {
   "display_name": "Python 3 (ipykernel)",
   "language": "python",
   "name": "python3"
  },
  "language_info": {
   "codemirror_mode": {
    "name": "ipython",
    "version": 3
   },
   "file_extension": ".py",
   "mimetype": "text/x-python",
   "name": "python",
   "nbconvert_exporter": "python",
   "pygments_lexer": "ipython3",
   "version": "3.9.12"
  }
 },
 "nbformat": 4,
 "nbformat_minor": 5
}
