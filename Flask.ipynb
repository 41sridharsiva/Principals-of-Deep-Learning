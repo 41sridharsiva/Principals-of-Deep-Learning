{
 "cells": [
  {
   "cell_type": "markdown",
   "id": "dcf87c1d",
   "metadata": {},
   "source": [
    "## PDL LABSHEET - 10"
   ]
  },
  {
   "cell_type": "markdown",
   "id": "b842e5b1",
   "metadata": {},
   "source": [
    "### SRIDHAR S"
   ]
  },
  {
   "cell_type": "markdown",
   "id": "16860a0e",
   "metadata": {},
   "source": [
    "### 225229139"
   ]
  },
  {
   "cell_type": "raw",
   "id": "829abb49",
   "metadata": {},
   "source": [
    "Pickle.py"
   ]
  },
  {
   "cell_type": "code",
   "execution_count": 25,
   "id": "e4c1aa4c",
   "metadata": {},
   "outputs": [
    {
     "name": "stderr",
     "output_type": "stream",
     "text": [
      "[nltk_data] Downloading package vader_lexicon to\n",
      "[nltk_data]     C:\\Users\\elcot\\AppData\\Roaming\\nltk_data...\n",
      "[nltk_data]   Package vader_lexicon is already up-to-date!\n"
     ]
    },
    {
     "data": {
      "text/plain": [
       "True"
      ]
     },
     "execution_count": 25,
     "metadata": {},
     "output_type": "execute_result"
    }
   ],
   "source": [
    "import nltk\n",
    "nltk.download('vader_lexicon')"
   ]
  },
  {
   "cell_type": "code",
   "execution_count": 26,
   "id": "7a49c20c",
   "metadata": {},
   "outputs": [],
   "source": [
    "from nltk.sentiment.vader import SentimentIntensityAnalyzer"
   ]
  },
  {
   "cell_type": "code",
   "execution_count": 27,
   "id": "c1f59e2f",
   "metadata": {},
   "outputs": [],
   "source": [
    "def train_sentiment_model():\n",
    "    sid = SentimentIntensityAnalyzer()\n",
    "    return sid"
   ]
  },
  {
   "cell_type": "code",
   "execution_count": 28,
   "id": "3ad5e473",
   "metadata": {},
   "outputs": [],
   "source": [
    "def predict_sentiment(model, text):\n",
    "    scores = model.polarity_scores(text)\n",
    "    compound_score = scores['compound']\n",
    "\n",
    "    if compound_score > 0:\n",
    "        label = 'This sentence is positive'\n",
    "    elif compound_score == 0:\n",
    "        label = 'This sentence is neutral'\n",
    "    else:\n",
    "        label = 'This sentence is negative'\n",
    "\n",
    "    return label"
   ]
  },
  {
   "cell_type": "code",
   "execution_count": 29,
   "id": "a5afd6f6",
   "metadata": {},
   "outputs": [],
   "source": [
    "model = train_sentiment_model()"
   ]
  },
  {
   "cell_type": "code",
   "execution_count": 30,
   "id": "d65978a1",
   "metadata": {},
   "outputs": [],
   "source": [
    "import pickle"
   ]
  },
  {
   "cell_type": "code",
   "execution_count": 31,
   "id": "35877f41",
   "metadata": {},
   "outputs": [],
   "source": [
    "with open('sentiment_model.pkl', 'wb') as f:\n",
    "    pickle.dump(model, f)"
   ]
  },
  {
   "cell_type": "code",
   "execution_count": 32,
   "id": "f546d5aa",
   "metadata": {},
   "outputs": [],
   "source": [
    "with open('sentiment_model.pkl', 'rb') as f:\n",
    "    loaded_model = pickle.load(f)"
   ]
  },
  {
   "cell_type": "code",
   "execution_count": 33,
   "id": "a1ac3a05",
   "metadata": {},
   "outputs": [],
   "source": [
    "prediction = predict_sentiment(loaded_model,\"Your are so nice\")"
   ]
  },
  {
   "cell_type": "code",
   "execution_count": 34,
   "id": "0f66fb0d",
   "metadata": {},
   "outputs": [
    {
     "data": {
      "text/plain": [
       "'This sentence is positive'"
      ]
     },
     "execution_count": 34,
     "metadata": {},
     "output_type": "execute_result"
    }
   ],
   "source": [
    "prediction"
   ]
  },
  {
   "cell_type": "markdown",
   "id": "d1cee15f",
   "metadata": {},
   "source": [
    "index.html"
   ]
  },
  {
   "cell_type": "raw",
   "id": "c621dbbf",
   "metadata": {},
   "source": [
    "<html>\n",
    "<head>\n",
    "    <title>Sentiment Analysis App</title>\n",
    "</head>\n",
    "<body>\n",
    "    <h1>Sentiment Analysis App</h1>\n",
    "    <p>Type a sentence. Click on the submit button and wait for your prediction.</p>\n",
    "    \n",
    "    <form action=\"/predict\" method=\"post\">\n",
    "        <label for=\"sentence\">Enter a sentence:</label><br>\n",
    "        <input type=\"text\" id=\"sentence\" name=\"sentence\"><br><br>\n",
    "        <input type=\"submit\" value=\"Submit\">\n",
    "    </form>\n",
    "\n",
    "    <p id=\"prediction\"></p>\n",
    "\n",
    "    <script>\n",
    "        const form = document.querySelector('form');\n",
    "        const predictionText = document.getElementById('prediction');\n",
    "\n",
    "        form.addEventListener('submit', async (e) => {\n",
    "            e.preventDefault();\n",
    "\n",
    "            const formData = new FormData(form);\n",
    "            const sentence = formData.get('sentence');\n",
    "\n",
    "            const response = await fetch('/predict', {\n",
    "                method: 'POST',\n",
    "                body: JSON.stringify({ sentence }),\n",
    "                headers: {\n",
    "                    'Content-Type': 'application/json'\n",
    "                }\n",
    "            });\n",
    "\n",
    "            const result = await response.json();\n",
    "            predictionText.textContent = result.prediction;\n",
    "        });\n",
    "    </script>\n",
    "</body>\n",
    "</html>\n"
   ]
  },
  {
   "cell_type": "raw",
   "id": "fbd86dfd",
   "metadata": {},
   "source": [
    "app.py"
   ]
  },
  {
   "cell_type": "raw",
   "id": "75a38498",
   "metadata": {},
   "source": [
    "from flask import Flask, render_template, request, jsonify\n",
    "import pickle\n",
    "from nltk.sentiment.vader import SentimentIntensityAnalyzer\n",
    "\n",
    "app = Flask(__name__, template_folder='templates')\n",
    "\n",
    "with open('sentiment_model.pkl', 'rb') as f:\n",
    "    sentiment_model = pickle.load(f)\n",
    "\n",
    "@app.route('/')\n",
    "def home():\n",
    "    return render_template('index.html')\n",
    "\n",
    "@app.route('/predict', methods=['POST'])\n",
    "def predict():\n",
    "    data = request.get_json()\n",
    "    sentence = data['sentence']\n",
    "\n",
    "    # Use the loaded sentiment analysis model to predict sentiment\n",
    "    scores = sentiment_model.polarity_scores(sentence)\n",
    "    compound_score = scores['compound']\n",
    "\n",
    "    if compound_score > 0:\n",
    "        prediction = 'This sentence is positive'\n",
    "    elif compound_score == 0:\n",
    "        prediction = 'This sentence is neutral'\n",
    "    else:\n",
    "        prediction = 'This sentence is negative'\n",
    "\n",
    "    return jsonify({'prediction': prediction})\n",
    "\n",
    "if __name__ == '__main__':\n",
    "    app.run(debug=True)\n"
   ]
  },
  {
   "cell_type": "code",
   "execution_count": null,
   "id": "4d444323",
   "metadata": {},
   "outputs": [],
   "source": []
  }
 ],
 "metadata": {
  "kernelspec": {
   "display_name": "Python 3 (ipykernel)",
   "language": "python",
   "name": "python3"
  },
  "language_info": {
   "codemirror_mode": {
    "name": "ipython",
    "version": 3
   },
   "file_extension": ".py",
   "mimetype": "text/x-python",
   "name": "python",
   "nbconvert_exporter": "python",
   "pygments_lexer": "ipython3",
   "version": "3.9.12"
  }
 },
 "nbformat": 4,
 "nbformat_minor": 5
}
